{
 "cells": [
  {
   "cell_type": "code",
   "execution_count": 55,
   "metadata": {},
   "outputs": [],
   "source": [
    "USER = 'thomas'"
   ]
  },
  {
   "cell_type": "code",
   "execution_count": 56,
   "metadata": {},
   "outputs": [],
   "source": [
    "import numpy as np\n",
    "import pandas as pd\n",
    "import os\n",
    "import sys"
   ]
  },
  {
   "cell_type": "code",
   "execution_count": 57,
   "metadata": {},
   "outputs": [],
   "source": [
    "sys.path.insert(0, os.path.join(os.path.abspath('..'), 'dataset'))"
   ]
  },
  {
   "cell_type": "code",
   "execution_count": 58,
   "metadata": {},
   "outputs": [],
   "source": [
    "from load_movies import load_movies"
   ]
  },
  {
   "cell_type": "code",
   "execution_count": 59,
   "metadata": {
    "tags": []
   },
   "outputs": [
    {
     "name": "stderr",
     "output_type": "stream",
     "text": [
      "/Library/Frameworks/Python.framework/Versions/3.8/lib/python3.8/site-packages/IPython/core/interactiveshell.py:3254: DtypeWarning: Columns (10) have mixed types.Specify dtype option on import or set low_memory=False.\n",
      "  if (await self.run_code(code, result,  async_=asy)):\n"
     ]
    }
   ],
   "source": [
    "allmovies = load_movies()"
   ]
  },
  {
   "cell_type": "code",
   "execution_count": 60,
   "metadata": {},
   "outputs": [],
   "source": [
    "bymovie = allmovies[['movieId', 'rating', 'vote_count']].groupby('movieId', sort=False).mean()"
   ]
  },
  {
   "cell_type": "code",
   "execution_count": 61,
   "metadata": {},
   "outputs": [],
   "source": [
    "over1000votes = bymovie[bymovie['vote_count'] >= 1000]"
   ]
  },
  {
   "cell_type": "code",
   "execution_count": 62,
   "metadata": {},
   "outputs": [],
   "source": [
    "def restrict_ratings(ratings, low, high):\n",
    "    '''Return `ratings` with just ratings in [low, high)'''\n",
    "    return ratings[(ratings['rating'] <= high) & (ratings['rating'] > low)]"
   ]
  },
  {
   "cell_type": "code",
   "execution_count": 63,
   "metadata": {},
   "outputs": [],
   "source": [
    "def collect_movies(ratings, unique_ranges, keep_top_n=50):\n",
    "    movies = pd.DataFrame(columns=ratings.columns, index=ratings.index)\n",
    "    for low_i, high_i in unique_ranges:\n",
    "        best_in_this_range = restrict_ratings(ratings, low_i, high_i).sort_values('vote_count').iloc[-keep_top_n:]\n",
    "        movies = pd.concat([movies, best_in_this_range])\n",
    "    return movies.dropna()"
   ]
  },
  {
   "cell_type": "code",
   "execution_count": 64,
   "metadata": {},
   "outputs": [],
   "source": [
    "UNIQUE_RANGES = ((0, 0.5), (0.5, 1), (1, 1.5), (1.5, 2), (2, 2.5), (2.5, 3), (3, 3.5), (3.5, 5))"
   ]
  },
  {
   "cell_type": "code",
   "execution_count": 65,
   "metadata": {},
   "outputs": [],
   "source": [
    "def convert_to_save_format(collected, allmovies):\n",
    "    return pd.merge(collected.drop(['rating', 'vote_count'], axis=1).reset_index(),\n",
    "                    allmovies[['imdb_id', 'title', 'movieId']].drop_duplicates(),\n",
    "                    on='movieId').drop('movieId', axis=1)"
   ]
  },
  {
   "cell_type": "code",
   "execution_count": 66,
   "metadata": {},
   "outputs": [],
   "source": [
    "def save_collected(collected, allmovies, savepath):\n",
    "    convert_to_save_format(collected, allmovies).to_csv(savepath, index=False)"
   ]
  },
  {
   "cell_type": "code",
   "execution_count": 67,
   "metadata": {},
   "outputs": [],
   "source": [
    "save_collected(collect_movies(over1000votes, UNIQUE_RANGES), allmovies, f'movies_for_{USER}_to_rate.csv')"
   ]
  }
 ],
 "metadata": {
  "kernelspec": {
   "display_name": "Python 3.8.2 64-bit",
   "language": "python",
   "name": "python38264bita8d96e36de4741ce9e672ff7c3d9f0e0"
  },
  "language_info": {
   "codemirror_mode": {
    "name": "ipython",
    "version": 3
   },
   "file_extension": ".py",
   "mimetype": "text/x-python",
   "name": "python",
   "nbconvert_exporter": "python",
   "pygments_lexer": "ipython3",
   "version": "3.8.2"
  }
 },
 "nbformat": 4,
 "nbformat_minor": 4
}
