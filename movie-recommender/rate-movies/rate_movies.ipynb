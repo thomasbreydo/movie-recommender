{
 "cells": [
  {
   "cell_type": "code",
   "execution_count": 16,
   "metadata": {},
   "outputs": [],
   "source": [
    "import os"
   ]
  },
  {
   "cell_type": "code",
   "execution_count": 17,
   "metadata": {},
   "outputs": [],
   "source": [
    "USER = 'thomas'\n",
    "MOVIES_CSV = f'movies_for_{USER}_to_rate.csv'\n",
    "IMGS_DIR = os.path.join('..', 'images', 'posters')"
   ]
  },
  {
   "cell_type": "code",
   "execution_count": 18,
   "metadata": {},
   "outputs": [],
   "source": [
    "import sys\n",
    "import custompigeon as pigeon\n",
    "import pandas as pd\n",
    "import numpy as np\n",
    "from tqdm import tqdm\n",
    "from IPython.display import Image, display, TextDisplayObject"
   ]
  },
  {
   "cell_type": "code",
   "execution_count": 19,
   "metadata": {},
   "outputs": [],
   "source": [
    "sys.path.insert(0, os.path.join(os.path.abspath('..'), 'images'))\n",
    "from download import download_poster"
   ]
  },
  {
   "cell_type": "code",
   "execution_count": 20,
   "metadata": {},
   "outputs": [
    {
     "name": "stdout",
     "output_type": "stream",
     "text": [
      "Preferences file 'thomas_preferences.csv' already exists (loading rated movies)\n"
     ]
    }
   ],
   "source": [
    "savedir = f'{USER}_preferences.csv'\n",
    "if os.path.exists(savedir):\n",
    "    print(f'Preferences file {savedir!r} already exists (loading rated movies)')\n",
    "    preloaded = pd.read_csv(savedir)\n",
    "else:\n",
    "    preloaded = pd.DataFrame(columns=['imdb_id', 'title'])"
   ]
  },
  {
   "cell_type": "code",
   "execution_count": 21,
   "metadata": {},
   "outputs": [],
   "source": [
    "def get_img_path_from_id(imdb_id):\n",
    "    return os.path.join(IMGS_DIR, f'{imdb_id}.jpeg')"
   ]
  },
  {
   "cell_type": "code",
   "execution_count": 22,
   "metadata": {},
   "outputs": [],
   "source": [
    "def display_fn(row):\n",
    "    imdb_id, title = row\n",
    "    return display(title, Image(get_img_path_from_id(imdb_id)))"
   ]
  },
  {
   "cell_type": "code",
   "execution_count": 23,
   "metadata": {},
   "outputs": [],
   "source": [
    "def annotations_to_df(annot):\n",
    "    return pd.DataFrame([(imdb_id, title, rating) for (imdb_id, title), rating in annot], \n",
    "                        columns=('imdb_id', 'title', 'rating'))"
   ]
  },
  {
   "cell_type": "code",
   "execution_count": 24,
   "metadata": {},
   "outputs": [],
   "source": [
    "def reduce_already_rated(movies, preloaded):\n",
    "    return movies[~movies['imdb_id'].isin(preloaded['imdb_id'])]"
   ]
  },
  {
   "cell_type": "code",
   "execution_count": 25,
   "metadata": {},
   "outputs": [],
   "source": [
    "def download_missing_photos(reduced):\n",
    "    for imdb_id in tqdm(reduced['imdb_id']):\n",
    "        download_poster(imdb_id, get_img_path_from_id(imdb_id))"
   ]
  },
  {
   "cell_type": "code",
   "execution_count": 26,
   "metadata": {},
   "outputs": [],
   "source": [
    "def annotations_to_ratings_df(annot, preloaded):\n",
    "    return pd.concat([annotations_to_df(annot), preloaded]).drop_duplicates('imdb_id')"
   ]
  },
  {
   "cell_type": "code",
   "execution_count": 27,
   "metadata": {},
   "outputs": [],
   "source": [
    "movies = pd.read_csv(MOVIES_CSV, usecols=('title', 'imdb_id'))\n",
    "reduced = reduce_already_rated(movies, preloaded)"
   ]
  },
  {
   "cell_type": "code",
   "execution_count": 28,
   "metadata": {
    "tags": []
   },
   "outputs": [
    {
     "name": "stderr",
     "output_type": "stream",
     "text": [
      "100%|██████████| 3/3 [00:00<00:00, 2984.56it/s]\n"
     ]
    }
   ],
   "source": [
    "download_missing_photos(reduced)"
   ]
  },
  {
   "cell_type": "code",
   "execution_count": 29,
   "metadata": {},
   "outputs": [
    {
     "data": {
      "application/vnd.jupyter.widget-view+json": {
       "model_id": "7e3c6571eaf54de199c51e459d357809",
       "version_major": 2,
       "version_minor": 0
      },
      "text/plain": [
       "HTML(value='0 examples annotated, 4 examples left')"
      ]
     },
     "metadata": {},
     "output_type": "display_data"
    },
    {
     "data": {
      "application/vnd.jupyter.widget-view+json": {
       "model_id": "6a7d1e36be064f88817b644bb69aa558",
       "version_major": 2,
       "version_minor": 0
      },
      "text/plain": [
       "HBox(children=(Button(description='1', style=ButtonStyle()), Button(description='2', style=ButtonStyle()), But…"
      ]
     },
     "metadata": {},
     "output_type": "display_data"
    },
    {
     "data": {
      "application/vnd.jupyter.widget-view+json": {
       "model_id": "28637abb12724b22be88c905237ba28e",
       "version_major": 2,
       "version_minor": 0
      },
      "text/plain": [
       "Output()"
      ]
     },
     "metadata": {},
     "output_type": "display_data"
    }
   ],
   "source": [
    "annot = pigeon.annotate(reduced.loc[:, ['imdb_id', 'title']].values, \n",
    "                        options=['1', '2', '3', '4', '5', '?'],\n",
    "                        include_skip=False,\n",
    "                        display_fn=display_fn)"
   ]
  },
  {
   "cell_type": "code",
   "execution_count": 15,
   "metadata": {},
   "outputs": [],
   "source": [
    "annotations_to_ratings_df(annot, preloaded).to_csv(savedir, index=False)"
   ]
  }
 ],
 "metadata": {
  "kernelspec": {
   "display_name": "Python 3.8.2 64-bit",
   "language": "python",
   "name": "python38264bita8d96e36de4741ce9e672ff7c3d9f0e0"
  },
  "language_info": {
   "codemirror_mode": {
    "name": "ipython",
    "version": 3
   },
   "file_extension": ".py",
   "mimetype": "text/x-python",
   "name": "python",
   "nbconvert_exporter": "python",
   "pygments_lexer": "ipython3",
   "version": "3.8.2"
  }
 },
 "nbformat": 4,
 "nbformat_minor": 4
}
