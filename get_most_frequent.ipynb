{
 "cells": [
  {
   "cell_type": "code",
   "execution_count": 2,
   "metadata": {},
   "outputs": [],
   "source": [
    "import pandas as pd\n",
    "import numpy as np"
   ]
  },
  {
   "cell_type": "code",
   "execution_count": 4,
   "metadata": {},
   "outputs": [],
   "source": [
    "ratings = pd.read_csv('movies/ratings.csv')"
   ]
  },
  {
   "cell_type": "code",
   "execution_count": 5,
   "metadata": {},
   "outputs": [],
   "source": [
    "meta = pd.read_csv('movies/movies_metadata.csv')"
   ]
  },
  {
   "cell_type": "code",
   "execution_count": 6,
   "metadata": {
    "tags": []
   },
   "outputs": [
    {
     "output_type": "stream",
     "name": "stdout",
     "text": "Changed 'movieId' to 'id'\n"
    }
   ],
   "source": [
    "new_cols = list(ratings.columns)\n",
    "old_id_col = new_cols[1]\n",
    "new_cols[1] = 'id'\n",
    "ratings.columns = new_cols\n",
    "print(f'Changed {old_id_col!r} to {\"id\"!r}')"
   ]
  },
  {
   "cell_type": "code",
   "execution_count": 7,
   "metadata": {
    "tags": []
   },
   "outputs": [],
   "source": [
    "meta = meta[~meta['id'].str.contains('-')]\n",
    "meta['id'] = pd.to_numeric(meta['id'])"
   ]
  },
  {
   "cell_type": "code",
   "execution_count": 10,
   "metadata": {},
   "outputs": [],
   "source": [
    "movies = pd.merge(ratings, meta, on='id')"
   ]
  },
  {
   "cell_type": "code",
   "execution_count": 11,
   "metadata": {},
   "outputs": [],
   "source": [
    "by_vote_count = movies.drop_duplicates('title').sort_values('vote_count', ascending=False)"
   ]
  },
  {
   "cell_type": "code",
   "execution_count": 12,
   "metadata": {
    "tags": []
   },
   "outputs": [],
   "source": [
    "by_vote_count.iloc[:199].to_csv('frequently_reviewed.csv')"
   ]
  },
  {
   "cell_type": "code",
   "execution_count": 50,
   "metadata": {
    "tags": []
   },
   "outputs": [
    {
     "output_type": "stream",
     "name": "stdout",
     "text": "Saved 198 most reviewed movies\n"
    }
   ],
   "source": [
    "frequently_reviewed = by_vote_count.iloc[:1000000]\n",
    "print(f'Saved {frequently_reviewed[\"title\"].nunique()} most reviewed movies')"
   ]
  },
  {
   "cell_type": "code",
   "execution_count": 49,
   "metadata": {},
   "outputs": [
    {
     "output_type": "execute_result",
     "data": {
      "text/plain": "array(['tt1375666', 'tt0468569', 'tt0816692', 'tt2015381', 'tt0137523',\n       'tt0133093', 'tt0371746', 'tt0120737', 'tt0110912', 'tt0111161',\n       'tt0167260', 'tt0109830', 'tt0120338', 'tt0167261', 'tt0372784',\n       'tt0325980', 'tt0241527', 'tt0458339', 'tt2395427', 'tt0076759',\n       'tt0993846', 'tt2096673', 'tt0948470', 'tt1951264', 'tt0266543',\n       'tt0088763', 'tt1877832', 'tt0198781', 'tt0304141', 'tt0478970',\n       'tt0068646', 'tt0080684', 'tt0295297', 'tt0114369', 'tt0330373',\n       'tt0373889', 'tt0172495', 'tt0110357', 'tt0417741', 'tt0114709',\n       'tt0383574', 'tt0120815', 'tt0416449', 'tt0266697', 'tt1298650',\n       'tt0480249', 'tt0107290', 'tt1840309', 'tt0086190', 'tt0449088',\n       'tt0078748', 'tt0434409', 'tt0102926', 'tt0120915', 'tt0119654',\n       'tt2103281', 'tt0482571', 'tt0382932', 'tt0407887', 'tt0936501',\n       'tt0108052', 'tt0316654', 'tt0110413', 'tt0103064', 'tt1798709',\n       'tt0088247', 'tt0121766', 'tt0126029', 'tt0209144', 'tt0120689',\n       'tt1951266', 'tt0418279', 'tt0458525', 'tt0121765', 'tt0378194',\n       'tt0095016', 'tt0317219', 'tt0245429', 'tt0119116', 'tt0268380',\n       'tt0082971', 'tt0096874', 'tt0264464', 'tt0081505', 'tt0343818',\n       'tt0240772', 'tt0083658', 'tt0105236', 'tt0367594', 'tt0338013',\n       'tt0099487', 'tt1099212', 'tt0413300', 'tt0118799', 'tt0258463',\n       'tt0246578', 'tt1637688', 'tt0234215', 'tt0103639', 'tt0169547',\n       'tt0066921', 'tt0071562', 'tt0112573', 'tt0211915', 'tt0421715',\n       'tt0083866', 'tt0114814', 'tt0116629', 'tt0351283', 'tt0090605',\n       'tt0831387', 'tt0167404', 'tt0097576', 'tt0099685', 'tt0458352',\n       'tt1055369', 'tt0120912', 'tt1735898', 'tt0242653', 'tt0758758',\n       'tt0457430', 'tt0315327', 'tt0120586', 'tt0268978', 'tt0800080',\n       'tt0477348', 'tt0298148', 'tt0062622', 'tt0448157', 'tt0356910',\n       'tt1583421', 'tt0438097', 'tt0086250', 'tt0073486', 'tt0118715',\n       'tt0099088', 'tt0208092', 'tt0477347', 'tt1764651', 'tt0440963',\n       'tt1706620', 'tt1964418', 'tt0119217', 'tt0372183', 'tt1800241',\n       'tt0087469', 'tt0332452', 'tt0120616', 'tt0097165', 'tt0382625',\n       'tt0401792', 'tt0117951', 'tt0363771', 'tt0117060', 'tt1291150',\n       'tt1542344', 'tt0181689', 'tt0486576', 'tt0075314', 'tt1324999',\n       'tt0093058', 'tt0493464', 'tt0367882', 'tt0320691', 'tt0110475',\n       'tt0120591', 'tt0119567', 'tt0180093', 'tt0405159', 'tt2184339',\n       'tt0438488', 'tt0099785', 'tt0365748', 'tt0114746', 'tt0319262',\n       'tt0104431', 'tt0087332', 'tt0113497', 'tt0054215', 'tt0360717',\n       'tt0407304', 'tt1077368', 'tt0060196', 'tt0163651', 'tt0107048',\n       'tt0413267', 'tt0450259', 'tt1499658', 'tt0462538', 'tt0467406',\n       'tt1060277', 'tt0167190', 'tt0209163', 'tt0387564', 'tt0425112',\n       'tt0146316', 'tt0088847', 'tt0181852'], dtype=object)"
     },
     "metadata": {},
     "execution_count": 49
    }
   ],
   "source": [
    "frequently_reviewed['imdb_id'].unique()"
   ]
  },
  {
   "cell_type": "code",
   "execution_count": 45,
   "metadata": {},
   "outputs": [
    {
     "output_type": "execute_result",
     "data": {
      "text/plain": "array(['/qmDpIHrmpJINaRKAfWQfftjCdyi.jpg',\n       '/1hRoyzDtpgMU7Dz4JF22RANzQO7.jpg',\n       '/nBNZadXqJSdt05SHLqgT0HuC5Gm.jpg',\n       '/y31QB9kn3XSudA15tV7UWQ9XLuW.jpg',\n       '/adw6Lq9FiC9zjYEpOqfq03ituwp.jpg'], dtype=object)"
     },
     "metadata": {},
     "execution_count": 45
    }
   ],
   "source": [
    "frequently_reviewed.poster_path.unique()[:5]"
   ]
  },
  {
   "cell_type": "code",
   "execution_count": null,
   "metadata": {},
   "outputs": [],
   "source": []
  }
 ],
 "metadata": {
  "language_info": {
   "codemirror_mode": {
    "name": "ipython",
    "version": 3
   },
   "file_extension": ".py",
   "mimetype": "text/x-python",
   "name": "python",
   "nbconvert_exporter": "python",
   "pygments_lexer": "ipython3",
   "version": 3
  },
  "orig_nbformat": 2,
  "kernelspec": {
   "name": "python_defaultSpec_1594345405783",
   "display_name": "Python 3.8.2 64-bit"
  }
 },
 "nbformat": 4,
 "nbformat_minor": 2
}