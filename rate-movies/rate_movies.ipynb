{
 "cells": [
  {
   "cell_type": "code",
   "execution_count": 376,
   "metadata": {},
   "outputs": [],
   "source": [
    "import custompigeon as pigeon"
   ]
  },
  {
   "cell_type": "code",
   "execution_count": 377,
   "metadata": {},
   "outputs": [],
   "source": [
    "import warnings\n",
    "import os.path\n",
    "import pandas as pd\n",
    "import numpy as np\n",
    "from IPython.display import Image, display, TextDisplayObject"
   ]
  },
  {
   "cell_type": "code",
   "execution_count": 378,
   "metadata": {},
   "outputs": [],
   "source": [
    "USER = 'thomas'\n",
    "IMGS_DIR = os.path.join('..', 'movie-images')\n",
    "MOVIES_DIR = os.path.join('..', 'frequently_reviewed.csv')"
   ]
  },
  {
   "cell_type": "code",
   "execution_count": 379,
   "metadata": {},
   "outputs": [
    {
     "name": "stdout",
     "output_type": "stream",
     "text": [
      "Preferences file 'thomas.csv' already exists (loading rated movies)\n"
     ]
    }
   ],
   "source": [
    "savedir = f'{USER}.csv'\n",
    "if os.path.exists(savedir):\n",
    "    print(f'Preferences file {savedir!r} already exists (loading rated movies)')\n",
    "    preloaded = pd.read_csv(savedir)\n",
    "else:\n",
    "    preloaded = pd.DataFrame(index=False)"
   ]
  },
  {
   "cell_type": "code",
   "execution_count": 380,
   "metadata": {},
   "outputs": [],
   "source": [
    "def get_img_path_from_id(imdb_id):\n",
    "    return os.path.join(IMGS_DIR, f'{imdb_id}.jpeg')"
   ]
  },
  {
   "cell_type": "code",
   "execution_count": 381,
   "metadata": {},
   "outputs": [],
   "source": [
    "def display_fn(row):\n",
    "    imdb_id, title = row\n",
    "    return display(title, Image(get_img_path_from_id(imdb_id)))"
   ]
  },
  {
   "cell_type": "code",
   "execution_count": 382,
   "metadata": {},
   "outputs": [],
   "source": [
    "def annotations_to_df(annot):\n",
    "    return pd.DataFrame([(imdb_id, title, rating) for (imdb_id, title), rating in annot], \n",
    "                        columns=('imdb_id', 'title', 'rating'))"
   ]
  },
  {
   "cell_type": "code",
   "execution_count": 383,
   "metadata": {},
   "outputs": [],
   "source": [
    "def annotations_to_ratings_df(annot, preloaded):\n",
    "    return pd.concat([annotations_to_df(annot), preloaded])"
   ]
  },
  {
   "cell_type": "code",
   "execution_count": 384,
   "metadata": {},
   "outputs": [],
   "source": [
    "def reduce_already_rated(movies, preloaded):\n",
    "    return movies[~movies['imdb_id'].isin(preloaded['imdb_id'])]"
   ]
  },
  {
   "cell_type": "code",
   "execution_count": 385,
   "metadata": {},
   "outputs": [],
   "source": [
    "movies = pd.read_csv(MOVIES_DIR, usecols=('title', 'imdb_id'))\n",
    "reduced = reduce_already_rated(movies, preloaded)"
   ]
  },
  {
   "cell_type": "code",
   "execution_count": 387,
   "metadata": {},
   "outputs": [
    {
     "data": {
      "application/vnd.jupyter.widget-view+json": {
       "model_id": "2ece6b7f770b422ba6f81faaf8bc5350",
       "version_major": 2,
       "version_minor": 0
      },
      "text/plain": [
       "HTML(value='0 examples annotated, 150 examples left')"
      ]
     },
     "metadata": {},
     "output_type": "display_data"
    },
    {
     "data": {
      "application/vnd.jupyter.widget-view+json": {
       "model_id": "96df248423c948df9f332dba3d6e1543",
       "version_major": 2,
       "version_minor": 0
      },
      "text/plain": [
       "HBox(children=(Button(description='1', style=ButtonStyle()), Button(description='2', style=ButtonStyle()), But…"
      ]
     },
     "metadata": {},
     "output_type": "display_data"
    },
    {
     "data": {
      "application/vnd.jupyter.widget-view+json": {
       "model_id": "f0d2a3e417c24e2f808a587900d5257e",
       "version_major": 2,
       "version_minor": 0
      },
      "text/plain": [
       "Output()"
      ]
     },
     "metadata": {},
     "output_type": "display_data"
    }
   ],
   "source": [
    "annot = pigeon.annotate(reduced.loc[:, ['imdb_id', 'title']].values, \n",
    "                        options=['1', '2', '3', '4', '5', '?'],\n",
    "                        include_skip=False,\n",
    "                        display_fn=display_fn)"
   ]
  },
  {
   "cell_type": "code",
   "execution_count": 388,
   "metadata": {},
   "outputs": [],
   "source": [
    "annotations_to_ratings_df(annot, preloaded).drop_duplicates().to_csv(savedir, index=False)"
   ]
  },
  {
   "cell_type": "code",
   "execution_count": null,
   "metadata": {},
   "outputs": [],
   "source": []
  }
 ],
 "metadata": {
  "kernelspec": {
   "display_name": "Python 3.8.2 64-bit",
   "language": "python",
   "name": "python38264bita8d96e36de4741ce9e672ff7c3d9f0e0"
  },
  "language_info": {
   "codemirror_mode": {
    "name": "ipython",
    "version": 3
   },
   "file_extension": ".py",
   "mimetype": "text/x-python",
   "name": "python",
   "nbconvert_exporter": "python",
   "pygments_lexer": "ipython3",
   "version": "3.8.2"
  }
 },
 "nbformat": 4,
 "nbformat_minor": 4
}
