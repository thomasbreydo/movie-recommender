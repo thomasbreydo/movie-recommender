{
 "cells": [
  {
   "cell_type": "code",
   "execution_count": 1,
   "metadata": {},
   "outputs": [],
   "source": [
    "import custompigeon as pigeon"
   ]
  },
  {
   "cell_type": "code",
   "execution_count": 2,
   "metadata": {},
   "outputs": [],
   "source": [
    "import warnings\n",
    "import os.path\n",
    "import pandas as pd\n",
    "import numpy as np\n",
    "from IPython.display import Image, display, TextDisplayObject"
   ]
  },
  {
   "cell_type": "code",
   "execution_count": 3,
   "metadata": {},
   "outputs": [],
   "source": [
    "USER = 'thomas'\n",
    "IMGS_DIR = os.path.join('..', 'movie-images')\n",
    "MOVIES_DIR = os.path.join('..', 'frequently_reviewed.csv')"
   ]
  },
  {
   "cell_type": "code",
   "execution_count": 4,
   "metadata": {},
   "outputs": [
    {
     "name": "stdout",
     "output_type": "stream",
     "text": [
      "Preferences file 'thomas.csv' already exists (loading rated movies)\n"
     ]
    }
   ],
   "source": [
    "savedir = f'{USER}.csv'\n",
    "if os.path.exists(savedir):\n",
    "    print(f'Preferences file {savedir!r} already exists (loading rated movies)')\n",
    "    preloaded = pd.read_csv(savedir)\n",
    "else:\n",
    "    preloaded = pd.DataFrame(index=False)"
   ]
  },
  {
   "cell_type": "code",
   "execution_count": 5,
   "metadata": {},
   "outputs": [],
   "source": [
    "def get_img_path_from_id(imdb_id):\n",
    "    return os.path.join(IMGS_DIR, f'{imdb_id}.jpeg')"
   ]
  },
  {
   "cell_type": "code",
   "execution_count": 6,
   "metadata": {},
   "outputs": [],
   "source": [
    "def display_fn(row):\n",
    "    imdb_id, title = row\n",
    "    return display(title, Image(get_img_path_from_id(imdb_id)))"
   ]
  },
  {
   "cell_type": "code",
   "execution_count": 7,
   "metadata": {},
   "outputs": [],
   "source": [
    "def annotations_to_df(annot):\n",
    "    return pd.DataFrame([(imdb_id, title, rating) for (imdb_id, title), rating in annot], \n",
    "                        columns=('imdb_id', 'title', 'rating'))"
   ]
  },
  {
   "cell_type": "code",
   "execution_count": 8,
   "metadata": {},
   "outputs": [],
   "source": [
    "def reduce_already_rated(movies, preloaded):\n",
    "    return movies[~movies['imdb_id'].isin(preloaded['imdb_id'])]"
   ]
  },
  {
   "cell_type": "code",
   "execution_count": 9,
   "metadata": {},
   "outputs": [],
   "source": [
    "def annotations_to_ratings_df(annot, preloaded):\n",
    "    return pd.concat([annotations_to_df(annot), preloaded]).drop_duplicates('imdb_id')"
   ]
  },
  {
   "cell_type": "code",
   "execution_count": 10,
   "metadata": {},
   "outputs": [],
   "source": [
    "movies = pd.read_csv(MOVIES_DIR, usecols=('title', 'imdb_id'))\n",
    "reduced = reduce_already_rated(movies, preloaded)"
   ]
  },
  {
   "cell_type": "code",
   "execution_count": 11,
   "metadata": {},
   "outputs": [
    {
     "data": {
      "application/vnd.jupyter.widget-view+json": {
       "model_id": "4595ca1d6fef47f08352935798470644",
       "version_major": 2,
       "version_minor": 0
      },
      "text/plain": [
       "HTML(value='0 examples annotated, 147 examples left')"
      ]
     },
     "metadata": {},
     "output_type": "display_data"
    },
    {
     "data": {
      "application/vnd.jupyter.widget-view+json": {
       "model_id": "05091b7bf69f4efd9346ee315b1aafd5",
       "version_major": 2,
       "version_minor": 0
      },
      "text/plain": [
       "HBox(children=(Button(description='1', style=ButtonStyle()), Button(description='2', style=ButtonStyle()), But…"
      ]
     },
     "metadata": {},
     "output_type": "display_data"
    },
    {
     "data": {
      "application/vnd.jupyter.widget-view+json": {
       "model_id": "07c923d7d9b94f9b82be498310b2847a",
       "version_major": 2,
       "version_minor": 0
      },
      "text/plain": [
       "Output()"
      ]
     },
     "metadata": {},
     "output_type": "display_data"
    },
    {
     "name": "stdout",
     "output_type": "stream",
     "text": [
      "Annotation done.\n"
     ]
    }
   ],
   "source": [
    "annot = pigeon.annotate(reduced.loc[:, ['imdb_id', 'title']].values, \n",
    "                        options=['1', '2', '3', '4', '5', '?'],\n",
    "                        include_skip=False,\n",
    "                        display_fn=display_fn)"
   ]
  },
  {
   "cell_type": "code",
   "execution_count": 13,
   "metadata": {},
   "outputs": [],
   "source": [
    "annotations_to_ratings_df(annot, preloaded).to_csv(savedir, index=False)"
   ]
  },
  {
   "cell_type": "code",
   "execution_count": null,
   "metadata": {},
   "outputs": [],
   "source": []
  }
 ],
 "metadata": {
  "kernelspec": {
   "display_name": "Python 3.8.2 64-bit",
   "language": "python",
   "name": "python38264bita8d96e36de4741ce9e672ff7c3d9f0e0"
  },
  "language_info": {
   "codemirror_mode": {
    "name": "ipython",
    "version": 3
   },
   "file_extension": ".py",
   "mimetype": "text/x-python",
   "name": "python",
   "nbconvert_exporter": "python",
   "pygments_lexer": "ipython3",
   "version": "3.8.2"
  }
 },
 "nbformat": 4,
 "nbformat_minor": 4
}
