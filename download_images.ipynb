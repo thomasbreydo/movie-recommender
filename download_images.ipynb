{
 "cells": [
  {
   "cell_type": "code",
   "execution_count": 34,
   "metadata": {},
   "outputs": [],
   "source": [
    "import pandas as pd\n",
    "import requests\n",
    "import shutil\n",
    "import apikeys\n",
    "import os.path\n",
    "from tqdm import tqdm"
   ]
  },
  {
   "cell_type": "code",
   "execution_count": 36,
   "metadata": {},
   "outputs": [],
   "source": [
    "SAVEDIR = 'movie-images'"
   ]
  },
  {
   "cell_type": "code",
   "execution_count": 4,
   "metadata": {},
   "outputs": [],
   "source": [
    "def construct_request_url(imdb_id):\n",
    "    return f'https://img.omdbapi.com/?apikey={apikeys.OMDb}&i={imdb_id}'"
   ]
  },
  {
   "cell_type": "code",
   "execution_count": 5,
   "metadata": {},
   "outputs": [],
   "source": [
    "def save_poster(respose, savepath):\n",
    "    with open(savepath, 'wb') as f:\n",
    "        shutil.copyfileobj(respose.raw, f)"
   ]
  },
  {
   "cell_type": "code",
   "execution_count": 28,
   "metadata": {},
   "outputs": [],
   "source": [
    "def download_poster(imdb_id, savepath):\n",
    "    request_url = construct_request_url(imdb_id)\n",
    "    save_poster(requests.get(request_url, stream=True), savepath)"
   ]
  },
  {
   "cell_type": "code",
   "execution_count": 24,
   "metadata": {},
   "outputs": [],
   "source": [
    "df = pd.read_csv('frequently_reviewed.csv', usecols=['imdb_id'])"
   ]
  },
  {
   "cell_type": "code",
   "execution_count": 35,
   "metadata": {},
   "outputs": [
    {
     "name": "stderr",
     "output_type": "stream",
     "text": [
      "100%|██████████| 199/199 [02:36<00:00,  1.27it/s]\n"
     ]
    }
   ],
   "source": [
    "for imdb_id in tqdm(df['imdb_id']):\n",
    "    download_poster(imdb_id, os.path.join(SAVEDIR, f'{imdb_id}.jpeg'))"
   ]
  }
 ],
 "metadata": {
  "kernelspec": {
   "display_name": "Python 3.8.2 64-bit",
   "language": "python",
   "name": "python38264bita8d96e36de4741ce9e672ff7c3d9f0e0"
  },
  "language_info": {
   "codemirror_mode": {
    "name": "ipython",
    "version": 3
   },
   "file_extension": ".py",
   "mimetype": "text/x-python",
   "name": "python",
   "nbconvert_exporter": "python",
   "pygments_lexer": "ipython3",
   "version": "3.8.2"
  }
 },
 "nbformat": 4,
 "nbformat_minor": 2
}
